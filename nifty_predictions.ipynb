{
 "cells": [
  {
   "cell_type": "code",
   "execution_count": 67,
   "metadata": {},
   "outputs": [],
   "source": [
    "#import libraries\n",
    "import numpy as np\n",
    "import pandas as pd\n",
    "from sklearn.model_selection import train_test_split\n",
    "from sklearn import svm\n",
    "from sklearn.preprocessing import StandardScaler, Normalizer\n",
    "from matplotlib import pyplot as plt\n",
    "import seaborn as sns"
   ]
  },
  {
   "cell_type": "code",
   "execution_count": 68,
   "metadata": {},
   "outputs": [],
   "source": [
    "#read the csv file\n",
    "data=pd.read_csv('OptionsPrices2.csv')"
   ]
  },
  {
   "cell_type": "code",
   "execution_count": 69,
   "metadata": {},
   "outputs": [
    {
     "data": {
      "text/html": [
       "<div>\n",
       "<style scoped>\n",
       "    .dataframe tbody tr th:only-of-type {\n",
       "        vertical-align: middle;\n",
       "    }\n",
       "\n",
       "    .dataframe tbody tr th {\n",
       "        vertical-align: top;\n",
       "    }\n",
       "\n",
       "    .dataframe thead th {\n",
       "        text-align: right;\n",
       "    }\n",
       "</style>\n",
       "<table border=\"1\" class=\"dataframe\">\n",
       "  <thead>\n",
       "    <tr style=\"text-align: right;\">\n",
       "      <th></th>\n",
       "      <th>Date</th>\n",
       "      <th>Expiry</th>\n",
       "      <th>Option Type</th>\n",
       "      <th>Time left</th>\n",
       "      <th>Strike Price</th>\n",
       "      <th>Settle Price</th>\n",
       "      <th>Underlying Price</th>\n",
       "    </tr>\n",
       "  </thead>\n",
       "  <tbody>\n",
       "    <tr>\n",
       "      <th>0</th>\n",
       "      <td>02-Jan-2017</td>\n",
       "      <td>25-Jan-2017</td>\n",
       "      <td>CE</td>\n",
       "      <td>23</td>\n",
       "      <td>8200</td>\n",
       "      <td>110.05</td>\n",
       "      <td>8179.5</td>\n",
       "    </tr>\n",
       "    <tr>\n",
       "      <th>1</th>\n",
       "      <td>03-Jan-2017</td>\n",
       "      <td>25-Jan-2017</td>\n",
       "      <td>CE</td>\n",
       "      <td>22</td>\n",
       "      <td>8200</td>\n",
       "      <td>110.70</td>\n",
       "      <td>8192.25</td>\n",
       "    </tr>\n",
       "    <tr>\n",
       "      <th>2</th>\n",
       "      <td>04-Jan-2017</td>\n",
       "      <td>25-Jan-2017</td>\n",
       "      <td>CE</td>\n",
       "      <td>21</td>\n",
       "      <td>8200</td>\n",
       "      <td>110.60</td>\n",
       "      <td>8190.5</td>\n",
       "    </tr>\n",
       "    <tr>\n",
       "      <th>3</th>\n",
       "      <td>05-Jan-2017</td>\n",
       "      <td>25-Jan-2017</td>\n",
       "      <td>CE</td>\n",
       "      <td>20</td>\n",
       "      <td>8200</td>\n",
       "      <td>152.80</td>\n",
       "      <td>8273.8</td>\n",
       "    </tr>\n",
       "    <tr>\n",
       "      <th>4</th>\n",
       "      <td>06-Jan-2017</td>\n",
       "      <td>25-Jan-2017</td>\n",
       "      <td>CE</td>\n",
       "      <td>19</td>\n",
       "      <td>8200</td>\n",
       "      <td>134.55</td>\n",
       "      <td>8243.8</td>\n",
       "    </tr>\n",
       "  </tbody>\n",
       "</table>\n",
       "</div>"
      ],
      "text/plain": [
       "          Date       Expiry Option Type  Time left  Strike Price  \\\n",
       "0  02-Jan-2017  25-Jan-2017          CE         23          8200   \n",
       "1  03-Jan-2017  25-Jan-2017          CE         22          8200   \n",
       "2  04-Jan-2017  25-Jan-2017          CE         21          8200   \n",
       "3  05-Jan-2017  25-Jan-2017          CE         20          8200   \n",
       "4  06-Jan-2017  25-Jan-2017          CE         19          8200   \n",
       "\n",
       "   Settle Price Underlying Price  \n",
       "0        110.05           8179.5  \n",
       "1        110.70          8192.25  \n",
       "2        110.60           8190.5  \n",
       "3        152.80           8273.8  \n",
       "4        134.55           8243.8  "
      ]
     },
     "execution_count": 69,
     "metadata": {},
     "output_type": "execute_result"
    }
   ],
   "source": [
    "#Check the first 5 rows of the data\n",
    "data.head()"
   ]
  },
  {
   "cell_type": "code",
   "execution_count": 70,
   "metadata": {},
   "outputs": [
    {
     "data": {
      "text/plain": [
       "<AxesSubplot:xlabel='Strike Price', ylabel='Count'>"
      ]
     },
     "execution_count": 70,
     "metadata": {},
     "output_type": "execute_result"
    },
    {
     "data": {
      "image/png": "[encoded data removed]",
      "text/plain": [
       "<Figure size 432x288 with 1 Axes>"
      ]
     },
     "metadata": {
      "needs_background": "light"
     },
     "output_type": "display_data"
    }
   ],
   "source": [
    "sns.histplot(data=data,x=\"Strike Price\")"
   ]
  },
  {
   "cell_type": "code",
   "execution_count": 71,
   "metadata": {},
   "outputs": [
    {
     "data": {
      "text/plain": [
       "<AxesSubplot:xlabel='Time left', ylabel='Count'>"
      ]
     },
     "execution_count": 71,
     "metadata": {},
     "output_type": "execute_result"
    },
    {
     "data": {
      "image/png": "[encoded data removed]",
      "text/plain": [
       "<Figure size 432x288 with 1 Axes>"
      ]
     },
     "metadata": {
      "needs_background": "light"
     },
     "output_type": "display_data"
    }
   ],
   "source": [
    "sns.histplot(data=data,x=\"Time left\")"
   ]
  },
  {
   "cell_type": "code",
   "execution_count": 72,
   "metadata": {},
   "outputs": [
    {
     "data": {
      "text/plain": [
       "<AxesSubplot:xlabel='Settle Price', ylabel='Count'>"
      ]
     },
     "execution_count": 72,
     "metadata": {},
     "output_type": "execute_result"
    },
    {
     "data": {
      "image/png": "[encoded data removed]",
      "text/plain": [
       "<Figure size 432x288 with 1 Axes>"
      ]
     },
     "metadata": {
      "needs_background": "light"
     },
     "output_type": "display_data"
    }
   ],
   "source": [
    "sns.histplot(data=data,x=\"Settle Price\")"
   ]
  },
  {
   "cell_type": "code",
   "execution_count": 73,
   "metadata": {},
   "outputs": [
    {
     "data": {
      "text/plain": [
       "array(['CE'], dtype=object)"
      ]
     },
     "execution_count": 73,
     "metadata": {},
     "output_type": "execute_result"
    }
   ],
   "source": [
    "#Check unique values\n",
    "data['Option Type'].unique()"
   ]
  },
  {
   "cell_type": "code",
   "execution_count": 74,
   "metadata": {},
   "outputs": [
    {
     "data": {
      "text/plain": [
       "array([ 8200,  8700,  8950,  9250,  9300,  9600, 10100,  9950,  9850,\n",
       "       10450, 11000, 10200, 10700, 10650, 11350, 11600, 10400, 10900,\n",
       "       10800, 10850, 11650, 11700, 12100, 11850, 11800, 12000],\n",
       "      dtype=int64)"
      ]
     },
     "execution_count": 74,
     "metadata": {},
     "output_type": "execute_result"
    }
   ],
   "source": [
    "#Check unique values\n",
    "data['Strike Price'].unique()"
   ]
  },
  {
   "cell_type": "code",
   "execution_count": 75,
   "metadata": {},
   "outputs": [
    {
     "data": {
      "text/plain": [
       "array(['25-Jan-2017', '23-Feb-2017', '30-Mar-2017', '27-Apr-2017',\n",
       "       '42880', '29-Jun-2017', '27-Jul-2017', '31-Aug-2017',\n",
       "       '28-Sep-2017', '26-Oct-2017', '30-Nov-2017', '28-Dec-2017',\n",
       "       '25-Jan-2018', '22-Feb-2018', '26-Apr-2018', '31-May-2018',\n",
       "       '28-Jun-2018', '26-Jul-2018', '30-Aug-2018', '27-Sep-2018',\n",
       "       '25-Oct-2018', '29-Nov-2018', '27-Dec-2018', '31-Jan-2019',\n",
       "       '28-Feb-2019', '28-Mar-2019', '25-Apr-2019', '30-May-2019',\n",
       "       '27-Jun-2019', '25-Jul-2019', '29-Aug-2019', '26-Sep-2019',\n",
       "       '31-Oct-2019', '28-Nov-2019', '26-Dec-2019', '30-Jan-2020'],\n",
       "      dtype=object)"
      ]
     },
     "execution_count": 75,
     "metadata": {},
     "output_type": "execute_result"
    }
   ],
   "source": [
    "#Check unique values\n",
    "data['Expiry'].unique()"
   ]
  },
  {
   "cell_type": "code",
   "execution_count": 76,
   "metadata": {},
   "outputs": [
    {
     "data": {
      "text/plain": [
       "array(['02-Jan-2017', '03-Jan-2017', '04-Jan-2017', '05-Jan-2017',\n",
       "       '06-Jan-2017', '09-Jan-2017', '10-Jan-2017', '11-Jan-2017',\n",
       "       '12-Jan-2017', '13-Jan-2017', '16-Jan-2017', '17-Jan-2017',\n",
       "       '18-Jan-2017', '19-Jan-2017', '20-Jan-2017', '23-Jan-2017',\n",
       "       '24-Jan-2017', '01-Feb-2017', '02-Feb-2017', '03-Feb-2017',\n",
       "       '06-Feb-2017', '07-Feb-2017', '08-Feb-2017', '09-Feb-2017',\n",
       "       '10-Feb-2017', '13-Feb-2017', '14-Feb-2017', '15-Feb-2017',\n",
       "       '16-Feb-2017', '17-Feb-2017', '20-Feb-2017', '21-Feb-2017',\n",
       "       '22-Feb-2017', '01-Mar-2017', '02-Mar-2017', '03-Mar-2017',\n",
       "       '06-Mar-2017', '07-Mar-2017', '08-Mar-2017', '09-Mar-2017',\n",
       "       '10-Mar-2017', '14-Mar-2017', '15-Mar-2017', '16-Mar-2017',\n",
       "       '17-Mar-2017', '20-Mar-2017', '21-Mar-2017', '22-Mar-2017',\n",
       "       '23-Mar-2017', '24-Mar-2017', '27-Mar-2017', '28-Mar-2017',\n",
       "       '29-Mar-2017', '03-Apr-2017', '05-Apr-2017', '06-Apr-2017',\n",
       "       '07-Apr-2017', '10-Apr-2017', '11-Apr-2017', '12-Apr-2017',\n",
       "       '13-Apr-2017', '17-Apr-2017', '18-Apr-2017', '19-Apr-2017',\n",
       "       '20-Apr-2017', '21-Apr-2017', '24-Apr-2017', '25-Apr-2017',\n",
       "       '26-Apr-2017', '42857', '42858', '42859', '42860', '42863',\n",
       "       '42864', '42865', '42866', '42867', '42870', '42871', '42872',\n",
       "       '42873', '42874', '42877', '42878', '42879', '01-Jun-2017',\n",
       "       '02-Jun-2017', '05-Jun-2017', '06-Jun-2017', '07-Jun-2017',\n",
       "       '08-Jun-2017', '09-Jun-2017', '12-Jun-2017', '13-Jun-2017',\n",
       "       '14-Jun-2017', '15-Jun-2017', '16-Jun-2017', '19-Jun-2017',\n",
       "       '20-Jun-2017', '21-Jun-2017', '22-Jun-2017', '23-Jun-2017',\n",
       "       '27-Jun-2017', '28-Jun-2017', '03-Jul-2017', '04-Jul-2017',\n",
       "       '05-Jul-2017', '06-Jul-2017', '07-Jul-2017', '10-Jul-2017',\n",
       "       '11-Jul-2017', '12-Jul-2017', '13-Jul-2017', '14-Jul-2017',\n",
       "       '17-Jul-2017', '18-Jul-2017', '19-Jul-2017', '20-Jul-2017',\n",
       "       '21-Jul-2017', '24-Jul-2017', '25-Jul-2017', '26-Jul-2017',\n",
       "       '01-Aug-2017', '02-Aug-2017', '03-Aug-2017', '04-Aug-2017',\n",
       "       '07-Aug-2017', '08-Aug-2017', '09-Aug-2017', '10-Aug-2017',\n",
       "       '11-Aug-2017', '14-Aug-2017', '16-Aug-2017', '17-Aug-2017',\n",
       "       '18-Aug-2017', '21-Aug-2017', '22-Aug-2017', '23-Aug-2017',\n",
       "       '24-Aug-2017', '28-Aug-2017', '29-Aug-2017', '30-Aug-2017',\n",
       "       '01-Sep-2017', '04-Sep-2017', '05-Sep-2017', '06-Sep-2017',\n",
       "       '07-Sep-2017', '08-Sep-2017', '11-Sep-2017', '12-Sep-2017',\n",
       "       '13-Sep-2017', '14-Sep-2017', '15-Sep-2017', '18-Sep-2017',\n",
       "       '19-Sep-2017', '20-Sep-2017', '21-Sep-2017', '22-Sep-2017',\n",
       "       '25-Sep-2017', '26-Sep-2017', '27-Sep-2017', '03-Oct-2017',\n",
       "       '04-Oct-2017', '05-Oct-2017', '06-Oct-2017', '09-Oct-2017',\n",
       "       '10-Oct-2017', '11-Oct-2017', '12-Oct-2017', '13-Oct-2017',\n",
       "       '16-Oct-2017', '17-Oct-2017', '18-Oct-2017', '19-Oct-2017',\n",
       "       '23-Oct-2017', '24-Oct-2017', '25-Oct-2017', '26-Oct-2017',\n",
       "       '01-Nov-2017', '02-Nov-2017', '03-Nov-2017', '06-Nov-2017',\n",
       "       '07-Nov-2017', '08-Nov-2017', '09-Nov-2017', '10-Nov-2017',\n",
       "       '13-Nov-2017', '14-Nov-2017', '15-Nov-2017', '16-Nov-2017',\n",
       "       '17-Nov-2017', '20-Nov-2017', '21-Nov-2017', '22-Nov-2017',\n",
       "       '23-Nov-2017', '24-Nov-2017', '27-Nov-2017', '28-Nov-2017',\n",
       "       '29-Nov-2017', '01-Dec-2017', '04-Dec-2017', '05-Dec-2017',\n",
       "       '06-Dec-2017', '07-Dec-2017', '08-Dec-2017', '11-Dec-2017',\n",
       "       '12-Dec-2017', '13-Dec-2017', '14-Dec-2017', '15-Dec-2017',\n",
       "       '18-Dec-2017', '19-Dec-2017', '20-Dec-2017', '21-Dec-2017',\n",
       "       '22-Dec-2017', '26-Dec-2017', '27-Dec-2017', '01-Jan-2018',\n",
       "       '02-Jan-2018', '03-Jan-2018', '04-Jan-2018', '05-Jan-2018',\n",
       "       '08-Jan-2018', '09-Jan-2018', '10-Jan-2018', '11-Jan-2018',\n",
       "       '12-Jan-2018', '15-Jan-2018', '16-Jan-2018', '17-Jan-2018',\n",
       "       '18-Jan-2018', '19-Jan-2018', '22-Jan-2018', '23-Jan-2018',\n",
       "       '24-Jan-2018', '01-Feb-2018', '02-Feb-2018', '05-Feb-2018',\n",
       "       '06-Feb-2018', '07-Feb-2018', '08-Feb-2018', '09-Feb-2018',\n",
       "       '12-Feb-2018', '14-Feb-2018', '15-Feb-2018', '16-Feb-2018',\n",
       "       '19-Feb-2018', '20-Feb-2018', '21-Feb-2018', '02-Apr-2018',\n",
       "       '03-Apr-2018', '04-Apr-2018', '05-Apr-2018', '06-Apr-2018',\n",
       "       '09-Apr-2018', '10-Apr-2018', '11-Apr-2018', '12-Apr-2018',\n",
       "       '13-Apr-2018', '16-Apr-2018', '17-Apr-2018', '18-Apr-2018',\n",
       "       '19-Apr-2018', '20-Apr-2018', '23-Apr-2018', '24-Apr-2018',\n",
       "       '25-Apr-2018', '02-May-2018', '03-May-2018', '04-May-2018',\n",
       "       '07-May-2018', '08-May-2018', '09-May-2018', '10-May-2018',\n",
       "       '11-May-2018', '14-May-2018', '15-May-2018', '16-May-2018',\n",
       "       '17-May-2018', '18-May-2018', '21-May-2018', '22-May-2018',\n",
       "       '23-May-2018', '24-May-2018', '25-May-2018', '28-May-2018',\n",
       "       '29-May-2018', '30-May-2018', '01-Jun-2018', '04-Jun-2018',\n",
       "       '05-Jun-2018', '06-Jun-2018', '07-Jun-2018', '08-Jun-2018',\n",
       "       '11-Jun-2018', '12-Jun-2018', '13-Jun-2018', '14-Jun-2018',\n",
       "       '15-Jun-2018', '18-Jun-2018', '19-Jun-2018', '20-Jun-2018',\n",
       "       '21-Jun-2018', '22-Jun-2018', '25-Jun-2018', '26-Jun-2018',\n",
       "       '27-Jun-2018', '02-Jul-2018', '03-Jul-2018', '04-Jul-2018',\n",
       "       '05-Jul-2018', '06-Jul-2018', '09-Jul-2018', '10-Jul-2018',\n",
       "       '11-Jul-2018', '12-Jul-2018', '13-Jul-2018', '16-Jul-2018',\n",
       "       '17-Jul-2018', '18-Jul-2018', '19-Jul-2018', '20-Jul-2018',\n",
       "       '23-Jul-2018', '24-Jul-2018', '25-Jul-2018', '01-Aug-2018',\n",
       "       '02-Aug-2018', '03-Aug-2018', '06-Aug-2018', '07-Aug-2018',\n",
       "       '08-Aug-2018', '09-Aug-2018', '10-Aug-2018', '13-Aug-2018',\n",
       "       '14-Aug-2018', '16-Aug-2018', '17-Aug-2018', '20-Aug-2018',\n",
       "       '21-Aug-2018', '23-Aug-2018', '24-Aug-2018', '27-Aug-2018',\n",
       "       '28-Aug-2018', '29-Aug-2018', '03-Sep-2018', '04-Sep-2018',\n",
       "       '05-Sep-2018', '06-Sep-2018', '07-Sep-2018', '10-Sep-2018',\n",
       "       '11-Sep-2018', '12-Sep-2018', '14-Sep-2018', '17-Sep-2018',\n",
       "       '18-Sep-2018', '19-Sep-2018', '21-Sep-2018', '24-Sep-2018',\n",
       "       '25-Sep-2018', '26-Sep-2018', '01-Oct-2018', '03-Oct-2018',\n",
       "       '04-Oct-2018', '05-Oct-2018', '08-Oct-2018', '09-Oct-2018',\n",
       "       '10-Oct-2018', '11-Oct-2018', '12-Oct-2018', '15-Oct-2018',\n",
       "       '16-Oct-2018', '17-Oct-2018', '19-Oct-2018', '22-Oct-2018',\n",
       "       '23-Oct-2018', '24-Oct-2018', '01-Nov-2018', '02-Nov-2018',\n",
       "       '05-Nov-2018', '06-Nov-2018', '07-Nov-2018', '09-Nov-2018',\n",
       "       '12-Nov-2018', '13-Nov-2018', '14-Nov-2018', '15-Nov-2018',\n",
       "       '16-Nov-2018', '19-Nov-2018', '20-Nov-2018', '21-Nov-2018',\n",
       "       '22-Nov-2018', '26-Nov-2018', '27-Nov-2018', '28-Nov-2018',\n",
       "       '29-Nov-2018', '03-Dec-2018', '04-Dec-2018', '05-Dec-2018',\n",
       "       '06-Dec-2018', '07-Dec-2018', '10-Dec-2018', '11-Dec-2018',\n",
       "       '12-Dec-2018', '13-Dec-2018', '14-Dec-2018', '17-Dec-2018',\n",
       "       '18-Dec-2018', '19-Dec-2018', '20-Dec-2018', '21-Dec-2018',\n",
       "       '24-Dec-2018', '26-Dec-2018', '01-Jan-2019', '02-Jan-2019',\n",
       "       '03-Jan-2019', '04-Jan-2019', '07-Jan-2019', '08-Jan-2019',\n",
       "       '09-Jan-2019', '10-Jan-2019', '11-Jan-2019', '14-Jan-2019',\n",
       "       '15-Jan-2019', '16-Jan-2019', '17-Jan-2019', '18-Jan-2019',\n",
       "       '21-Jan-2019', '22-Jan-2019', '23-Jan-2019', '24-Jan-2019',\n",
       "       '25-Jan-2019', '28-Jan-2019', '29-Jan-2019', '30-Jan-2019',\n",
       "       '01-Feb-2019', '04-Feb-2019', '05-Feb-2019', '06-Feb-2019',\n",
       "       '07-Feb-2019', '08-Feb-2019', '11-Feb-2019', '12-Feb-2019',\n",
       "       '13-Feb-2019', '14-Feb-2019', '15-Feb-2019', '18-Feb-2019',\n",
       "       '19-Feb-2019', '20-Feb-2019', '21-Feb-2019', '22-Feb-2019',\n",
       "       '25-Feb-2019', '26-Feb-2019', '27-Feb-2019', '01-Mar-2019',\n",
       "       '05-Mar-2019', '06-Mar-2019', '07-Mar-2019', '08-Mar-2019',\n",
       "       '11-Mar-2019', '12-Mar-2019', '13-Mar-2019', '14-Mar-2019',\n",
       "       '15-Mar-2019', '18-Mar-2019', '19-Mar-2019', '20-Mar-2019',\n",
       "       '22-Mar-2019', '25-Mar-2019', '26-Mar-2019', '27-Mar-2019',\n",
       "       '01-Apr-2019', '02-Apr-2019', '03-Apr-2019', '04-Apr-2019',\n",
       "       '05-Apr-2019', '08-Apr-2019', '09-Apr-2019', '10-Apr-2019',\n",
       "       '11-Apr-2019', '12-Apr-2019', '15-Apr-2019', '16-Apr-2019',\n",
       "       '18-Apr-2019', '22-Apr-2019', '23-Apr-2019', '24-Apr-2019',\n",
       "       '02-May-2019', '03-May-2019', '06-May-2019', '07-May-2019',\n",
       "       '08-May-2019', '09-May-2019', '10-May-2019', '13-May-2019',\n",
       "       '14-May-2019', '15-May-2019', '16-May-2019', '17-May-2019',\n",
       "       '20-May-2019', '21-May-2019', '22-May-2019', '23-May-2019',\n",
       "       '24-May-2019', '27-May-2019', '28-May-2019', '29-May-2019',\n",
       "       '03-Jun-2019', '04-Jun-2019', '06-Jun-2019', '07-Jun-2019',\n",
       "       '10-Jun-2019', '11-Jun-2019', '12-Jun-2019', '13-Jun-2019',\n",
       "       '14-Jun-2019', '17-Jun-2019', '18-Jun-2019', '19-Jun-2019',\n",
       "       '20-Jun-2019', '21-Jun-2019', '24-Jun-2019', '25-Jun-2019',\n",
       "       '26-Jun-2019', '01-Jul-2019', '02-Jul-2019', '03-Jul-2019',\n",
       "       '04-Jul-2019', '05-Jul-2019', '08-Jul-2019', '09-Jul-2019',\n",
       "       '10-Jul-2019', '11-Jul-2019', '12-Jul-2019', '15-Jul-2019',\n",
       "       '16-Jul-2019', '17-Jul-2019', '18-Jul-2019', '19-Jul-2019',\n",
       "       '22-Jul-2019', '23-Jul-2019', '24-Jul-2019', '01-Aug-2019',\n",
       "       '02-Aug-2019', '05-Aug-2019', '06-Aug-2019', '07-Aug-2019',\n",
       "       '08-Aug-2019', '09-Aug-2019', '13-Aug-2019', '14-Aug-2019',\n",
       "       '16-Aug-2019', '19-Aug-2019', '20-Aug-2019', '21-Aug-2019',\n",
       "       '22-Aug-2019', '23-Aug-2019', '26-Aug-2019', '27-Aug-2019',\n",
       "       '28-Aug-2019', '03-Sep-2019', '04-Sep-2019', '05-Sep-2019',\n",
       "       '06-Sep-2019', '09-Sep-2019', '11-Sep-2019', '12-Sep-2019',\n",
       "       '13-Sep-2019', '16-Sep-2019', '17-Sep-2019', '18-Sep-2019',\n",
       "       '19-Sep-2019', '20-Sep-2019', '23-Sep-2019', '24-Sep-2019',\n",
       "       '25-Sep-2019', '01-Oct-2019', '03-Oct-2019', '04-Oct-2019',\n",
       "       '07-Oct-2019', '09-Oct-2019', '10-Oct-2019', '11-Oct-2019',\n",
       "       '14-Oct-2019', '15-Oct-2019', '16-Oct-2019', '17-Oct-2019',\n",
       "       '18-Oct-2019', '22-Oct-2019', '23-Oct-2019', '24-Oct-2019',\n",
       "       '25-Oct-2019', '27-Oct-2019', '29-Oct-2019', '30-Oct-2019',\n",
       "       '01-Nov-2019', '04-Nov-2019', '05-Nov-2019', '06-Nov-2019',\n",
       "       '07-Nov-2019', '08-Nov-2019', '11-Nov-2019', '13-Nov-2019',\n",
       "       '14-Nov-2019', '15-Nov-2019', '18-Nov-2019', '19-Nov-2019',\n",
       "       '20-Nov-2019', '21-Nov-2019', '22-Nov-2019', '25-Nov-2019',\n",
       "       '26-Nov-2019', '27-Nov-2019', '02-Dec-2019', '03-Dec-2019',\n",
       "       '04-Dec-2019', '05-Dec-2019', '06-Dec-2019', '09-Dec-2019',\n",
       "       '10-Dec-2019', '11-Dec-2019', '12-Dec-2019', '13-Dec-2019',\n",
       "       '16-Dec-2019', '17-Dec-2019', '18-Dec-2019', '19-Dec-2019',\n",
       "       '20-Dec-2019', '23-Dec-2019', '24-Dec-2019', '01-Jan-2020',\n",
       "       '02-Jan-2020', '03-Jan-2020', '06-Jan-2020', '07-Jan-2020',\n",
       "       '08-Jan-2020', '09-Jan-2020', '10-Jan-2020', '13-Jan-2020',\n",
       "       '14-Jan-2020', '15-Jan-2020', '16-Jan-2020', '17-Jan-2020',\n",
       "       '20-Jan-2020', '21-Jan-2020', '22-Jan-2020', '23-Jan-2020',\n",
       "       '24-Jan-2020', '27-Jan-2020', '28-Jan-2020', '29-Jan-2020'],\n",
       "      dtype=object)"
      ]
     },
     "execution_count": 76,
     "metadata": {},
     "output_type": "execute_result"
    }
   ],
   "source": [
    "#Check unique values\n",
    "data['Date'].unique()"
   ]
  },
  {
   "cell_type": "code",
   "execution_count": 77,
   "metadata": {},
   "outputs": [],
   "source": [
    "#Since no unique values, it is a useless feature. Hence, we drop it\n",
    "#We have time left to show the use of date and expiry columns\n",
    "post_data=data.drop(['Option Type','Date', 'Expiry'], axis=1)"
   ]
  },
  {
   "cell_type": "code",
   "execution_count": 78,
   "metadata": {},
   "outputs": [
    {
     "data": {
      "text/plain": [
       "651"
      ]
     },
     "execution_count": 78,
     "metadata": {},
     "output_type": "execute_result"
    }
   ],
   "source": [
    "#Check count of values\n",
    "post_data.value_counts().sum()"
   ]
  },
  {
   "cell_type": "code",
   "execution_count": null,
   "metadata": {},
   "outputs": [],
   "source": []
  },
  {
   "cell_type": "code",
   "execution_count": null,
   "metadata": {},
   "outputs": [],
   "source": []
  },
  {
   "cell_type": "code",
   "execution_count": 79,
   "metadata": {},
   "outputs": [],
   "source": [
    "#separate the data into features and labels\n",
    "X=post_data.drop('Underlying Price', axis=1)\n",
    "y=post_data['Underlying Price']"
   ]
  },
  {
   "cell_type": "code",
   "execution_count": 80,
   "metadata": {},
   "outputs": [],
   "source": [
    "X_train, X_test, y_train, y_test=train_test_split(X,y,test_size=0.2,random_state=42)"
   ]
  },
  {
   "cell_type": "code",
   "execution_count": null,
   "metadata": {},
   "outputs": [],
   "source": []
  },
  {
   "cell_type": "code",
   "execution_count": 82,
   "metadata": {},
   "outputs": [
    {
     "ename": "ValueError",
     "evalue": "could not convert string to float: '-'",
     "output_type": "error",
     "traceback": [
      "\u001b[1;31m---------------------------------------------------------------------------\u001b[0m",
      "\u001b[1;31mValueError\u001b[0m                                Traceback (most recent call last)",
      "\u001b[1;32m<ipython-input-82-dee269aa5785>\u001b[0m in \u001b[0;36m<module>\u001b[1;34m\u001b[0m\n\u001b[0;32m      1\u001b[0m \u001b[0mregr\u001b[0m\u001b[1;33m=\u001b[0m\u001b[0msvm\u001b[0m\u001b[1;33m.\u001b[0m\u001b[0mSVR\u001b[0m\u001b[1;33m(\u001b[0m\u001b[1;33m)\u001b[0m\u001b[1;33m\u001b[0m\u001b[1;33m\u001b[0m\u001b[0m\n\u001b[1;32m----> 2\u001b[1;33m \u001b[0mtraining\u001b[0m\u001b[1;33m=\u001b[0m\u001b[0mregr\u001b[0m\u001b[1;33m.\u001b[0m\u001b[0mfit\u001b[0m\u001b[1;33m(\u001b[0m\u001b[0mX_train\u001b[0m\u001b[1;33m,\u001b[0m \u001b[0my_train\u001b[0m\u001b[1;33m)\u001b[0m\u001b[1;33m\u001b[0m\u001b[1;33m\u001b[0m\u001b[0m\n\u001b[0m\u001b[0;32m      3\u001b[0m \u001b[0my_predict\u001b[0m\u001b[1;33m=\u001b[0m\u001b[0mregr\u001b[0m\u001b[1;33m.\u001b[0m\u001b[0mpredict\u001b[0m\u001b[1;33m(\u001b[0m\u001b[0mX_test\u001b[0m\u001b[1;33m)\u001b[0m\u001b[1;33m\u001b[0m\u001b[1;33m\u001b[0m\u001b[0m\n",
      "\u001b[1;32m~\\.conda\\envs\\tensorflow\\lib\\site-packages\\sklearn\\svm\\_base.py\u001b[0m in \u001b[0;36mfit\u001b[1;34m(self, X, y, sample_weight)\u001b[0m\n\u001b[0;32m    171\u001b[0m                                        accept_large_sparse=False)\n\u001b[0;32m    172\u001b[0m \u001b[1;33m\u001b[0m\u001b[0m\n\u001b[1;32m--> 173\u001b[1;33m         \u001b[0my\u001b[0m \u001b[1;33m=\u001b[0m \u001b[0mself\u001b[0m\u001b[1;33m.\u001b[0m\u001b[0m_validate_targets\u001b[0m\u001b[1;33m(\u001b[0m\u001b[0my\u001b[0m\u001b[1;33m)\u001b[0m\u001b[1;33m\u001b[0m\u001b[1;33m\u001b[0m\u001b[0m\n\u001b[0m\u001b[0;32m    174\u001b[0m \u001b[1;33m\u001b[0m\u001b[0m\n\u001b[0;32m    175\u001b[0m         sample_weight = np.asarray([]\n",
      "\u001b[1;32m~\\.conda\\envs\\tensorflow\\lib\\site-packages\\sklearn\\svm\\_base.py\u001b[0m in \u001b[0;36m_validate_targets\u001b[1;34m(self, y)\u001b[0m\n\u001b[0;32m    248\u001b[0m         \u001b[1;31m# Regression models should not have a class_weight_ attribute.\u001b[0m\u001b[1;33m\u001b[0m\u001b[1;33m\u001b[0m\u001b[1;33m\u001b[0m\u001b[0m\n\u001b[0;32m    249\u001b[0m         \u001b[0mself\u001b[0m\u001b[1;33m.\u001b[0m\u001b[0mclass_weight_\u001b[0m \u001b[1;33m=\u001b[0m \u001b[0mnp\u001b[0m\u001b[1;33m.\u001b[0m\u001b[0mempty\u001b[0m\u001b[1;33m(\u001b[0m\u001b[1;36m0\u001b[0m\u001b[1;33m)\u001b[0m\u001b[1;33m\u001b[0m\u001b[1;33m\u001b[0m\u001b[0m\n\u001b[1;32m--> 250\u001b[1;33m         \u001b[1;32mreturn\u001b[0m \u001b[0mcolumn_or_1d\u001b[0m\u001b[1;33m(\u001b[0m\u001b[0my\u001b[0m\u001b[1;33m,\u001b[0m \u001b[0mwarn\u001b[0m\u001b[1;33m=\u001b[0m\u001b[1;32mTrue\u001b[0m\u001b[1;33m)\u001b[0m\u001b[1;33m.\u001b[0m\u001b[0mastype\u001b[0m\u001b[1;33m(\u001b[0m\u001b[0mnp\u001b[0m\u001b[1;33m.\u001b[0m\u001b[0mfloat64\u001b[0m\u001b[1;33m,\u001b[0m \u001b[0mcopy\u001b[0m\u001b[1;33m=\u001b[0m\u001b[1;32mFalse\u001b[0m\u001b[1;33m)\u001b[0m\u001b[1;33m\u001b[0m\u001b[1;33m\u001b[0m\u001b[0m\n\u001b[0m\u001b[0;32m    251\u001b[0m \u001b[1;33m\u001b[0m\u001b[0m\n\u001b[0;32m    252\u001b[0m     \u001b[1;32mdef\u001b[0m \u001b[0m_warn_from_fit_status\u001b[0m\u001b[1;33m(\u001b[0m\u001b[0mself\u001b[0m\u001b[1;33m)\u001b[0m\u001b[1;33m:\u001b[0m\u001b[1;33m\u001b[0m\u001b[1;33m\u001b[0m\u001b[0m\n",
      "\u001b[1;31mValueError\u001b[0m: could not convert string to float: '-'"
     ]
    }
   ],
   "source": [
    "regr=svm.SVR()\n",
    "training=regr.fit(X_train, y_train)\n",
    "y_predict=regr.predict(X_test)"
   ]
  },
  {
   "cell_type": "code",
   "execution_count": null,
   "metadata": {},
   "outputs": [],
   "source": []
  },
  {
   "cell_type": "code",
   "execution_count": null,
   "metadata": {},
   "outputs": [],
   "source": []
  },
  {
   "cell_type": "code",
   "execution_count": null,
   "metadata": {},
   "outputs": [],
   "source": []
  },
  {
   "cell_type": "code",
   "execution_count": null,
   "metadata": {},
   "outputs": [],
   "source": []
  }
 ],
 "metadata": {
  "kernelspec": {
   "display_name": "Python 3",
   "language": "python",
   "name": "python3"
  },
  "language_info": {
   "codemirror_mode": {
    "name": "ipython",
    "version": 3
   },
   "file_extension": ".py",
   "mimetype": "text/x-python",
   "name": "python",
   "nbconvert_exporter": "python",
   "pygments_lexer": "ipython3",
   "version": "3.7.9"
  }
 },
 "nbformat": 4,
 "nbformat_minor": 4
}
