{
 "cells": [
  {
   "cell_type": "code",
   "execution_count": 128,
   "metadata": {},
   "outputs": [],
   "source": [
    "#import libraries\n",
    "import numpy as np\n",
    "import pandas as pd\n",
    "from sklearn.model_selection import train_test_split, cross_val_score\n",
    "from sklearn import svm\n",
    "from sklearn.preprocessing import StandardScaler, Normalizer\n",
    "from sklearn.ensemble import RandomForestRegressor\n",
    "from sklearn.metrics import mean_squared_error as MSE\n",
    "from matplotlib import pyplot as plt\n",
    "import seaborn as sns"
   ]
  },
  {
   "cell_type": "code",
   "execution_count": 129,
   "metadata": {},
   "outputs": [],
   "source": [
    "#read the csv file\n",
    "data=pd.read_csv('OptionsPrices2.csv')"
   ]
  },
  {
   "cell_type": "code",
   "execution_count": 130,
   "metadata": {},
   "outputs": [
    {
     "data": {
      "text/html": [
       "<div>\n",
       "<style scoped>\n",
       "    .dataframe tbody tr th:only-of-type {\n",
       "        vertical-align: middle;\n",
       "    }\n",
       "\n",
       "    .dataframe tbody tr th {\n",
       "        vertical-align: top;\n",
       "    }\n",
       "\n",
       "    .dataframe thead th {\n",
       "        text-align: right;\n",
       "    }\n",
       "</style>\n",
       "<table border=\"1\" class=\"dataframe\">\n",
       "  <thead>\n",
       "    <tr style=\"text-align: right;\">\n",
       "      <th></th>\n",
       "      <th>Date</th>\n",
       "      <th>Expiry</th>\n",
       "      <th>Option Type</th>\n",
       "      <th>Time left</th>\n",
       "      <th>Strike Price</th>\n",
       "      <th>Settle Price</th>\n",
       "      <th>Underlying Price</th>\n",
       "    </tr>\n",
       "  </thead>\n",
       "  <tbody>\n",
       "    <tr>\n",
       "      <th>0</th>\n",
       "      <td>02-Jan-2017</td>\n",
       "      <td>25-Jan-2017</td>\n",
       "      <td>CE</td>\n",
       "      <td>23</td>\n",
       "      <td>8200</td>\n",
       "      <td>110.05</td>\n",
       "      <td>8179.5</td>\n",
       "    </tr>\n",
       "    <tr>\n",
       "      <th>1</th>\n",
       "      <td>03-Jan-2017</td>\n",
       "      <td>25-Jan-2017</td>\n",
       "      <td>CE</td>\n",
       "      <td>22</td>\n",
       "      <td>8200</td>\n",
       "      <td>110.70</td>\n",
       "      <td>8192.25</td>\n",
       "    </tr>\n",
       "    <tr>\n",
       "      <th>2</th>\n",
       "      <td>04-Jan-2017</td>\n",
       "      <td>25-Jan-2017</td>\n",
       "      <td>CE</td>\n",
       "      <td>21</td>\n",
       "      <td>8200</td>\n",
       "      <td>110.60</td>\n",
       "      <td>8190.5</td>\n",
       "    </tr>\n",
       "    <tr>\n",
       "      <th>3</th>\n",
       "      <td>05-Jan-2017</td>\n",
       "      <td>25-Jan-2017</td>\n",
       "      <td>CE</td>\n",
       "      <td>20</td>\n",
       "      <td>8200</td>\n",
       "      <td>152.80</td>\n",
       "      <td>8273.8</td>\n",
       "    </tr>\n",
       "    <tr>\n",
       "      <th>4</th>\n",
       "      <td>06-Jan-2017</td>\n",
       "      <td>25-Jan-2017</td>\n",
       "      <td>CE</td>\n",
       "      <td>19</td>\n",
       "      <td>8200</td>\n",
       "      <td>134.55</td>\n",
       "      <td>8243.8</td>\n",
       "    </tr>\n",
       "  </tbody>\n",
       "</table>\n",
       "</div>"
      ],
      "text/plain": [
       "          Date       Expiry Option Type  Time left  Strike Price  \\\n",
       "0  02-Jan-2017  25-Jan-2017          CE         23          8200   \n",
       "1  03-Jan-2017  25-Jan-2017          CE         22          8200   \n",
       "2  04-Jan-2017  25-Jan-2017          CE         21          8200   \n",
       "3  05-Jan-2017  25-Jan-2017          CE         20          8200   \n",
       "4  06-Jan-2017  25-Jan-2017          CE         19          8200   \n",
       "\n",
       "   Settle Price Underlying Price  \n",
       "0        110.05           8179.5  \n",
       "1        110.70          8192.25  \n",
       "2        110.60           8190.5  \n",
       "3        152.80           8273.8  \n",
       "4        134.55           8243.8  "
      ]
     },
     "execution_count": 130,
     "metadata": {},
     "output_type": "execute_result"
    }
   ],
   "source": [
    "#Check the first 5 rows of the data\n",
    "data.head()"
   ]
  },
  {
   "cell_type": "code",
   "execution_count": 131,
   "metadata": {},
   "outputs": [
    {
     "data": {
      "text/plain": [
       "<AxesSubplot:xlabel='Strike Price', ylabel='Count'>"
      ]
     },
     "execution_count": 131,
     "metadata": {},
     "output_type": "execute_result"
    },
    {
     "data": {
      "image/png": "[encoded data removed]",
      "text/plain": [
       "<Figure size 432x288 with 1 Axes>"
      ]
     },
     "metadata": {
      "needs_background": "light"
     },
     "output_type": "display_data"
    }
   ],
   "source": [
    "sns.histplot(data=data,x=\"Strike Price\")"
   ]
  },
  {
   "cell_type": "code",
   "execution_count": 132,
   "metadata": {},
   "outputs": [
    {
     "data": {
      "text/plain": [
       "<AxesSubplot:xlabel='Time left', ylabel='Count'>"
      ]
     },
     "execution_count": 132,
     "metadata": {},
     "output_type": "execute_result"
    },
    {
     "data": {
      "image/png": "[encoded data removed]",
      "text/plain": [
       "<Figure size 432x288 with 1 Axes>"
      ]
     },
     "metadata": {
      "needs_background": "light"
     },
     "output_type": "display_data"
    }
   ],
   "source": [
    "sns.histplot(data=data,x=\"Time left\")"
   ]
  },
  {
   "cell_type": "code",
   "execution_count": 133,
   "metadata": {},
   "outputs": [
    {
     "data": {
      "text/plain": [
       "<AxesSubplot:xlabel='Settle Price', ylabel='Count'>"
      ]
     },
     "execution_count": 133,
     "metadata": {},
     "output_type": "execute_result"
    },
    {
     "data": {
      "image/png": "[encoded data removed]",
      "text/plain": [
       "<Figure size 432x288 with 1 Axes>"
      ]
     },
     "metadata": {
      "needs_background": "light"
     },
     "output_type": "display_data"
    }
   ],
   "source": [
    "sns.histplot(data=data,x=\"Settle Price\")"
   ]
  },
  {
   "cell_type": "code",
   "execution_count": 134,
   "metadata": {},
   "outputs": [
    {
     "data": {
      "text/plain": [
       "array(['CE'], dtype=object)"
      ]
     },
     "execution_count": 134,
     "metadata": {},
     "output_type": "execute_result"
    }
   ],
   "source": [
    "#Check unique values\n",
    "data['Option Type'].unique()"
   ]
  },
  {
   "cell_type": "code",
   "execution_count": 135,
   "metadata": {},
   "outputs": [
    {
     "data": {
      "text/plain": [
       "array([ 8200,  8700,  8950,  9250,  9300,  9600, 10100,  9950,  9850,\n",
       "       10450, 11000, 10200, 10700, 10650, 11350, 11600, 10400, 10900,\n",
       "       10800, 10850, 11650, 11700, 12100, 11850, 11800, 12000],\n",
       "      dtype=int64)"
      ]
     },
     "execution_count": 135,
     "metadata": {},
     "output_type": "execute_result"
    }
   ],
   "source": [
    "#Check unique values\n",
    "data['Strike Price'].unique()"
   ]
  },
  {
   "cell_type": "code",
   "execution_count": 136,
   "metadata": {},
   "outputs": [
    {
     "data": {
      "text/plain": [
       "array(['25-Jan-2017', '23-Feb-2017', '30-Mar-2017', '27-Apr-2017',\n",
       "       '42880', '29-Jun-2017', '27-Jul-2017', '31-Aug-2017',\n",
       "       '28-Sep-2017', '26-Oct-2017', '30-Nov-2017', '28-Dec-2017',\n",
       "       '25-Jan-2018', '22-Feb-2018', '26-Apr-2018', '31-May-2018',\n",
       "       '28-Jun-2018', '26-Jul-2018', '30-Aug-2018', '27-Sep-2018',\n",
       "       '25-Oct-2018', '29-Nov-2018', '27-Dec-2018', '31-Jan-2019',\n",
       "       '28-Feb-2019', '28-Mar-2019', '25-Apr-2019', '30-May-2019',\n",
       "       '27-Jun-2019', '25-Jul-2019', '29-Aug-2019', '26-Sep-2019',\n",
       "       '31-Oct-2019', '28-Nov-2019', '26-Dec-2019', '30-Jan-2020'],\n",
       "      dtype=object)"
      ]
     },
     "execution_count": 136,
     "metadata": {},
     "output_type": "execute_result"
    }
   ],
   "source": [
    "#Check unique values\n",
    "data['Expiry'].unique()"
   ]
  },
  {
   "cell_type": "code",
   "execution_count": 137,
   "metadata": {},
   "outputs": [
    {
     "data": {
      "text/plain": [
       "array(['02-Jan-2017', '03-Jan-2017', '04-Jan-2017', '05-Jan-2017',\n",
       "       '06-Jan-2017', '09-Jan-2017', '10-Jan-2017', '11-Jan-2017',\n",
       "       '12-Jan-2017', '13-Jan-2017', '16-Jan-2017', '17-Jan-2017',\n",
       "       '18-Jan-2017', '19-Jan-2017', '20-Jan-2017', '23-Jan-2017',\n",
       "       '24-Jan-2017', '01-Feb-2017', '02-Feb-2017', '03-Feb-2017',\n",
       "       '06-Feb-2017', '07-Feb-2017', '08-Feb-2017', '09-Feb-2017',\n",
       "       '10-Feb-2017', '13-Feb-2017', '14-Feb-2017', '15-Feb-2017',\n",
       "       '16-Feb-2017', '17-Feb-2017', '20-Feb-2017', '21-Feb-2017',\n",
       "       '22-Feb-2017', '01-Mar-2017', '02-Mar-2017', '03-Mar-2017',\n",
       "       '06-Mar-2017', '07-Mar-2017', '08-Mar-2017', '09-Mar-2017',\n",
       "       '10-Mar-2017', '14-Mar-2017', '15-Mar-2017', '16-Mar-2017',\n",
       "       '17-Mar-2017', '20-Mar-2017', '21-Mar-2017', '22-Mar-2017',\n",
       "       '23-Mar-2017', '24-Mar-2017', '27-Mar-2017', '28-Mar-2017',\n",
       "       '29-Mar-2017', '03-Apr-2017', '05-Apr-2017', '06-Apr-2017',\n",
       "       '07-Apr-2017', '10-Apr-2017', '11-Apr-2017', '12-Apr-2017',\n",
       "       '13-Apr-2017', '17-Apr-2017', '18-Apr-2017', '19-Apr-2017',\n",
       "       '20-Apr-2017', '21-Apr-2017', '24-Apr-2017', '25-Apr-2017',\n",
       "       '26-Apr-2017', '42857', '42858', '42859', '42860', '42863',\n",
       "       '42864', '42865', '42866', '42867', '42870', '42871', '42872',\n",
       "       '42873', '42874', '42877', '42878', '42879', '01-Jun-2017',\n",
       "       '02-Jun-2017', '05-Jun-2017', '06-Jun-2017', '07-Jun-2017',\n",
       "       '08-Jun-2017', '09-Jun-2017', '12-Jun-2017', '13-Jun-2017',\n",
       "       '14-Jun-2017', '15-Jun-2017', '16-Jun-2017', '19-Jun-2017',\n",
       "       '20-Jun-2017', '21-Jun-2017', '22-Jun-2017', '23-Jun-2017',\n",
       "       '27-Jun-2017', '28-Jun-2017', '03-Jul-2017', '04-Jul-2017',\n",
       "       '05-Jul-2017', '06-Jul-2017', '07-Jul-2017', '10-Jul-2017',\n",
       "       '11-Jul-2017', '12-Jul-2017', '13-Jul-2017', '14-Jul-2017',\n",
       "       '17-Jul-2017', '18-Jul-2017', '19-Jul-2017', '20-Jul-2017',\n",
       "       '21-Jul-2017', '24-Jul-2017', '25-Jul-2017', '26-Jul-2017',\n",
       "       '01-Aug-2017', '02-Aug-2017', '03-Aug-2017', '04-Aug-2017',\n",
       "       '07-Aug-2017', '08-Aug-2017', '09-Aug-2017', '10-Aug-2017',\n",
       "       '11-Aug-2017', '14-Aug-2017', '16-Aug-2017', '17-Aug-2017',\n",
       "       '18-Aug-2017', '21-Aug-2017', '22-Aug-2017', '23-Aug-2017',\n",
       "       '24-Aug-2017', '28-Aug-2017', '29-Aug-2017', '30-Aug-2017',\n",
       "       '01-Sep-2017', '04-Sep-2017', '05-Sep-2017', '06-Sep-2017',\n",
       "       '07-Sep-2017', '08-Sep-2017', '11-Sep-2017', '12-Sep-2017',\n",
       "       '13-Sep-2017', '14-Sep-2017', '15-Sep-2017', '18-Sep-2017',\n",
       "       '19-Sep-2017', '20-Sep-2017', '21-Sep-2017', '22-Sep-2017',\n",
       "       '25-Sep-2017', '26-Sep-2017', '27-Sep-2017', '03-Oct-2017',\n",
       "       '04-Oct-2017', '05-Oct-2017', '06-Oct-2017', '09-Oct-2017',\n",
       "       '10-Oct-2017', '11-Oct-2017', '12-Oct-2017', '13-Oct-2017',\n",
       "       '16-Oct-2017', '17-Oct-2017', '18-Oct-2017', '19-Oct-2017',\n",
       "       '23-Oct-2017', '24-Oct-2017', '25-Oct-2017', '26-Oct-2017',\n",
       "       '01-Nov-2017', '02-Nov-2017', '03-Nov-2017', '06-Nov-2017',\n",
       "       '07-Nov-2017', '08-Nov-2017', '09-Nov-2017', '10-Nov-2017',\n",
       "       '13-Nov-2017', '14-Nov-2017', '15-Nov-2017', '16-Nov-2017',\n",
       "       '17-Nov-2017', '20-Nov-2017', '21-Nov-2017', '22-Nov-2017',\n",
       "       '23-Nov-2017', '24-Nov-2017', '27-Nov-2017', '28-Nov-2017',\n",
       "       '29-Nov-2017', '01-Dec-2017', '04-Dec-2017', '05-Dec-2017',\n",
       "       '06-Dec-2017', '07-Dec-2017', '08-Dec-2017', '11-Dec-2017',\n",
       "       '12-Dec-2017', '13-Dec-2017', '14-Dec-2017', '15-Dec-2017',\n",
       "       '18-Dec-2017', '19-Dec-2017', '20-Dec-2017', '21-Dec-2017',\n",
       "       '22-Dec-2017', '26-Dec-2017', '27-Dec-2017', '01-Jan-2018',\n",
       "       '02-Jan-2018', '03-Jan-2018', '04-Jan-2018', '05-Jan-2018',\n",
       "       '08-Jan-2018', '09-Jan-2018', '10-Jan-2018', '11-Jan-2018',\n",
       "       '12-Jan-2018', '15-Jan-2018', '16-Jan-2018', '17-Jan-2018',\n",
       "       '18-Jan-2018', '19-Jan-2018', '22-Jan-2018', '23-Jan-2018',\n",
       "       '24-Jan-2018', '01-Feb-2018', '02-Feb-2018', '05-Feb-2018',\n",
       "       '06-Feb-2018', '07-Feb-2018', '08-Feb-2018', '09-Feb-2018',\n",
       "       '12-Feb-2018', '14-Feb-2018', '15-Feb-2018', '16-Feb-2018',\n",
       "       '19-Feb-2018', '20-Feb-2018', '21-Feb-2018', '02-Apr-2018',\n",
       "       '03-Apr-2018', '04-Apr-2018', '05-Apr-2018', '06-Apr-2018',\n",
       "       '09-Apr-2018', '10-Apr-2018', '11-Apr-2018', '12-Apr-2018',\n",
       "       '13-Apr-2018', '16-Apr-2018', '17-Apr-2018', '18-Apr-2018',\n",
       "       '19-Apr-2018', '20-Apr-2018', '23-Apr-2018', '24-Apr-2018',\n",
       "       '25-Apr-2018', '02-May-2018', '03-May-2018', '04-May-2018',\n",
       "       '07-May-2018', '08-May-2018', '09-May-2018', '10-May-2018',\n",
       "       '11-May-2018', '14-May-2018', '15-May-2018', '16-May-2018',\n",
       "       '17-May-2018', '18-May-2018', '21-May-2018', '22-May-2018',\n",
       "       '23-May-2018', '24-May-2018', '25-May-2018', '28-May-2018',\n",
       "       '29-May-2018', '30-May-2018', '01-Jun-2018', '04-Jun-2018',\n",
       "       '05-Jun-2018', '06-Jun-2018', '07-Jun-2018', '08-Jun-2018',\n",
       "       '11-Jun-2018', '12-Jun-2018', '13-Jun-2018', '14-Jun-2018',\n",
       "       '15-Jun-2018', '18-Jun-2018', '19-Jun-2018', '20-Jun-2018',\n",
       "       '21-Jun-2018', '22-Jun-2018', '25-Jun-2018', '26-Jun-2018',\n",
       "       '27-Jun-2018', '02-Jul-2018', '03-Jul-2018', '04-Jul-2018',\n",
       "       '05-Jul-2018', '06-Jul-2018', '09-Jul-2018', '10-Jul-2018',\n",
       "       '11-Jul-2018', '12-Jul-2018', '13-Jul-2018', '16-Jul-2018',\n",
       "       '17-Jul-2018', '18-Jul-2018', '19-Jul-2018', '20-Jul-2018',\n",
       "       '23-Jul-2018', '24-Jul-2018', '25-Jul-2018', '01-Aug-2018',\n",
       "       '02-Aug-2018', '03-Aug-2018', '06-Aug-2018', '07-Aug-2018',\n",
       "       '08-Aug-2018', '09-Aug-2018', '10-Aug-2018', '13-Aug-2018',\n",
       "       '14-Aug-2018', '16-Aug-2018', '17-Aug-2018', '20-Aug-2018',\n",
       "       '21-Aug-2018', '23-Aug-2018', '24-Aug-2018', '27-Aug-2018',\n",
       "       '28-Aug-2018', '29-Aug-2018', '03-Sep-2018', '04-Sep-2018',\n",
       "       '05-Sep-2018', '06-Sep-2018', '07-Sep-2018', '10-Sep-2018',\n",
       "       '11-Sep-2018', '12-Sep-2018', '14-Sep-2018', '17-Sep-2018',\n",
       "       '18-Sep-2018', '19-Sep-2018', '21-Sep-2018', '24-Sep-2018',\n",
       "       '25-Sep-2018', '26-Sep-2018', '01-Oct-2018', '03-Oct-2018',\n",
       "       '04-Oct-2018', '05-Oct-2018', '08-Oct-2018', '09-Oct-2018',\n",
       "       '10-Oct-2018', '11-Oct-2018', '12-Oct-2018', '15-Oct-2018',\n",
       "       '16-Oct-2018', '17-Oct-2018', '19-Oct-2018', '22-Oct-2018',\n",
       "       '23-Oct-2018', '24-Oct-2018', '01-Nov-2018', '02-Nov-2018',\n",
       "       '05-Nov-2018', '06-Nov-2018', '07-Nov-2018', '09-Nov-2018',\n",
       "       '12-Nov-2018', '13-Nov-2018', '14-Nov-2018', '15-Nov-2018',\n",
       "       '16-Nov-2018', '19-Nov-2018', '20-Nov-2018', '21-Nov-2018',\n",
       "       '22-Nov-2018', '26-Nov-2018', '27-Nov-2018', '28-Nov-2018',\n",
       "       '29-Nov-2018', '03-Dec-2018', '04-Dec-2018', '05-Dec-2018',\n",
       "       '06-Dec-2018', '07-Dec-2018', '10-Dec-2018', '11-Dec-2018',\n",
       "       '12-Dec-2018', '13-Dec-2018', '14-Dec-2018', '17-Dec-2018',\n",
       "       '18-Dec-2018', '19-Dec-2018', '20-Dec-2018', '21-Dec-2018',\n",
       "       '24-Dec-2018', '26-Dec-2018', '01-Jan-2019', '02-Jan-2019',\n",
       "       '03-Jan-2019', '04-Jan-2019', '07-Jan-2019', '08-Jan-2019',\n",
       "       '09-Jan-2019', '10-Jan-2019', '11-Jan-2019', '14-Jan-2019',\n",
       "       '15-Jan-2019', '16-Jan-2019', '17-Jan-2019', '18-Jan-2019',\n",
       "       '21-Jan-2019', '22-Jan-2019', '23-Jan-2019', '24-Jan-2019',\n",
       "       '25-Jan-2019', '28-Jan-2019', '29-Jan-2019', '30-Jan-2019',\n",
       "       '01-Feb-2019', '04-Feb-2019', '05-Feb-2019', '06-Feb-2019',\n",
       "       '07-Feb-2019', '08-Feb-2019', '11-Feb-2019', '12-Feb-2019',\n",
       "       '13-Feb-2019', '14-Feb-2019', '15-Feb-2019', '18-Feb-2019',\n",
       "       '19-Feb-2019', '20-Feb-2019', '21-Feb-2019', '22-Feb-2019',\n",
       "       '25-Feb-2019', '26-Feb-2019', '27-Feb-2019', '01-Mar-2019',\n",
       "       '05-Mar-2019', '06-Mar-2019', '07-Mar-2019', '08-Mar-2019',\n",
       "       '11-Mar-2019', '12-Mar-2019', '13-Mar-2019', '14-Mar-2019',\n",
       "       '15-Mar-2019', '18-Mar-2019', '19-Mar-2019', '20-Mar-2019',\n",
       "       '22-Mar-2019', '25-Mar-2019', '26-Mar-2019', '27-Mar-2019',\n",
       "       '01-Apr-2019', '02-Apr-2019', '03-Apr-2019', '04-Apr-2019',\n",
       "       '05-Apr-2019', '08-Apr-2019', '09-Apr-2019', '10-Apr-2019',\n",
       "       '11-Apr-2019', '12-Apr-2019', '15-Apr-2019', '16-Apr-2019',\n",
       "       '18-Apr-2019', '22-Apr-2019', '23-Apr-2019', '24-Apr-2019',\n",
       "       '02-May-2019', '03-May-2019', '06-May-2019', '07-May-2019',\n",
       "       '08-May-2019', '09-May-2019', '10-May-2019', '13-May-2019',\n",
       "       '14-May-2019', '15-May-2019', '16-May-2019', '17-May-2019',\n",
       "       '20-May-2019', '21-May-2019', '22-May-2019', '23-May-2019',\n",
       "       '24-May-2019', '27-May-2019', '28-May-2019', '29-May-2019',\n",
       "       '03-Jun-2019', '04-Jun-2019', '06-Jun-2019', '07-Jun-2019',\n",
       "       '10-Jun-2019', '11-Jun-2019', '12-Jun-2019', '13-Jun-2019',\n",
       "       '14-Jun-2019', '17-Jun-2019', '18-Jun-2019', '19-Jun-2019',\n",
       "       '20-Jun-2019', '21-Jun-2019', '24-Jun-2019', '25-Jun-2019',\n",
       "       '26-Jun-2019', '01-Jul-2019', '02-Jul-2019', '03-Jul-2019',\n",
       "       '04-Jul-2019', '05-Jul-2019', '08-Jul-2019', '09-Jul-2019',\n",
       "       '10-Jul-2019', '11-Jul-2019', '12-Jul-2019', '15-Jul-2019',\n",
       "       '16-Jul-2019', '17-Jul-2019', '18-Jul-2019', '19-Jul-2019',\n",
       "       '22-Jul-2019', '23-Jul-2019', '24-Jul-2019', '01-Aug-2019',\n",
       "       '02-Aug-2019', '05-Aug-2019', '06-Aug-2019', '07-Aug-2019',\n",
       "       '08-Aug-2019', '09-Aug-2019', '13-Aug-2019', '14-Aug-2019',\n",
       "       '16-Aug-2019', '19-Aug-2019', '20-Aug-2019', '21-Aug-2019',\n",
       "       '22-Aug-2019', '23-Aug-2019', '26-Aug-2019', '27-Aug-2019',\n",
       "       '28-Aug-2019', '03-Sep-2019', '04-Sep-2019', '05-Sep-2019',\n",
       "       '06-Sep-2019', '09-Sep-2019', '11-Sep-2019', '12-Sep-2019',\n",
       "       '13-Sep-2019', '16-Sep-2019', '17-Sep-2019', '18-Sep-2019',\n",
       "       '19-Sep-2019', '20-Sep-2019', '23-Sep-2019', '24-Sep-2019',\n",
       "       '25-Sep-2019', '01-Oct-2019', '03-Oct-2019', '04-Oct-2019',\n",
       "       '07-Oct-2019', '09-Oct-2019', '10-Oct-2019', '11-Oct-2019',\n",
       "       '14-Oct-2019', '15-Oct-2019', '16-Oct-2019', '17-Oct-2019',\n",
       "       '18-Oct-2019', '22-Oct-2019', '23-Oct-2019', '24-Oct-2019',\n",
       "       '25-Oct-2019', '27-Oct-2019', '29-Oct-2019', '30-Oct-2019',\n",
       "       '01-Nov-2019', '04-Nov-2019', '05-Nov-2019', '06-Nov-2019',\n",
       "       '07-Nov-2019', '08-Nov-2019', '11-Nov-2019', '13-Nov-2019',\n",
       "       '14-Nov-2019', '15-Nov-2019', '18-Nov-2019', '19-Nov-2019',\n",
       "       '20-Nov-2019', '21-Nov-2019', '22-Nov-2019', '25-Nov-2019',\n",
       "       '26-Nov-2019', '27-Nov-2019', '02-Dec-2019', '03-Dec-2019',\n",
       "       '04-Dec-2019', '05-Dec-2019', '06-Dec-2019', '09-Dec-2019',\n",
       "       '10-Dec-2019', '11-Dec-2019', '12-Dec-2019', '13-Dec-2019',\n",
       "       '16-Dec-2019', '17-Dec-2019', '18-Dec-2019', '19-Dec-2019',\n",
       "       '20-Dec-2019', '23-Dec-2019', '24-Dec-2019', '01-Jan-2020',\n",
       "       '02-Jan-2020', '03-Jan-2020', '06-Jan-2020', '07-Jan-2020',\n",
       "       '08-Jan-2020', '09-Jan-2020', '10-Jan-2020', '13-Jan-2020',\n",
       "       '14-Jan-2020', '15-Jan-2020', '16-Jan-2020', '17-Jan-2020',\n",
       "       '20-Jan-2020', '21-Jan-2020', '22-Jan-2020', '23-Jan-2020',\n",
       "       '24-Jan-2020', '27-Jan-2020', '28-Jan-2020', '29-Jan-2020'],\n",
       "      dtype=object)"
      ]
     },
     "execution_count": 137,
     "metadata": {},
     "output_type": "execute_result"
    }
   ],
   "source": [
    "#Check unique values\n",
    "data['Date'].unique()"
   ]
  },
  {
   "cell_type": "code",
   "execution_count": 138,
   "metadata": {},
   "outputs": [
    {
     "data": {
      "text/plain": [
       "array(['8179.5', '8192.25', '8190.5', '8273.8', '8243.8', '8236.05',\n",
       "       '8288.6', '8380.65', '8407.2', '8400.35', '8412.8', '8398', '8417',\n",
       "       '8435.1', '8349.35', '8391.5', '8475.8', '8716.4', '8734.25',\n",
       "       '8740.95', '8801.05', '8768.3', '8769.05', '8778.4', '8793.55',\n",
       "       '8805.05', '8792.3', '8724.7', '8778', '8821.7', '8879.2',\n",
       "       '8907.85', '8926.9', '8945.8', '8899.75', '8897.55', '8963.45',\n",
       "       '8946.9', '8924.3', '8927', '8934.55', '9087', '9084.8', '9153.7',\n",
       "       '9160.05', '9126.85', '9121.5', '9030.45', '9086.3', '9108',\n",
       "       '9045.2', '9100.8', '9143.8', '9237.85', '9265.15', '9261.95',\n",
       "       '9198.3', '9181.45', '9237', '9203.45', '9150.8', '9139.3',\n",
       "       '9105.15', '9103.5', '9136.4', '9119.4', '9217.95', '9306.6',\n",
       "       '9351.85', '9313.8', '9311.95', '9359.9', '9285.3', '9314.05',\n",
       "       '9316.85', '9407.3', '9422.4', '9400.9', '9445.4', '9512.25',\n",
       "       '9525.75', '9429.45', '9427.9', '9438.25', '9386.15', '9360.55',\n",
       "       '9616.1', '9653.5', '9675.1', '9637.15', '9663.9', '9647.25',\n",
       "       '9668.25', '9616.4', '9606.9', '9618.15', '9578.05', '-',\n",
       "       '9657.55', '9633.6', '9630', '9574.95', '9511.4', '9491.25',\n",
       "       '9615', '9613.3', '9637.6', '9674.55', '9665.8', '9771.05',\n",
       "       '9786.05', '9816.1', '9891.7', '9886.35', '9915.95', '9827.15',\n",
       "       '9899.6', '9873.3', '9915.25', '9966.4', '9964.55', '10020.65',\n",
       "       '10114.65', '10081.5', '10013.65', '10066.4', '10057.4', '9978.55',\n",
       "       '9908.05', '9820.25', '9710.8', '9794.15', '9897.3', '9904.15',\n",
       "       '9837.4', '9754.35', '9765.55', '9852.5', '9857.05', '9912.8',\n",
       "       '9796.05', '9884.4', '9974.4', '9912.85', '9952.2', '9916.2',\n",
       "       '9929.9', '9934.8', '10006.05', '10093.05', '10079.3', '10086.6',\n",
       "       '10085.4', '10153.1', '10147.55', '10141.15', '10121.9', '9964.4',\n",
       "       '9872.6', '9871.5', '9735.75', '9859.5', '9914.9', '9888.7',\n",
       "       '9979.7', '9988.75', '10016.95', '9984.8', '10096.4', '10167.45',\n",
       "       '10230.85', '10234.45', '10210.85', '10146.55', '10184.85',\n",
       "       '10207.7', '10295.35', '10343.8', '10440.5', '10423.8', '10452.5',\n",
       "       '10451.8', '10350.15', '10303.15', '10308.95', '10321.75',\n",
       "       '10224.95', '10186.6', '10118.05', '10214.75', '10283.6',\n",
       "       '10298.75', '10326.9', '10342.3', '10348.75', '10389.7',\n",
       "       '10399.55', '10370.25', '10361.3', '10121.8', '10127.75',\n",
       "       '10118.25', '10044.1', '10166.7', '10265.65', '10322.25',\n",
       "       '10240.15', '10192.95', '10252.1', '10333.25', '10388.75',\n",
       "       '10463.2', '10444.2', '10440.3', '10493', '10531.5', '10490.75',\n",
       "       '10435.55', '10442.2', '10443.2', '10504.8', '10558.85', '10623.6',\n",
       "       '10637', '10632.2', '10651.2', '10681.25', '10741.55', '10700.45',\n",
       "       '10788.55', '10817', '10894.7', '10966.2', '11083.7', '11086',\n",
       "       '11016.9', '10760.6', '10666.55', '10498.25', '10476.7',\n",
       "       '10576.85', '10454.95', '10500.9', '10397.45', '10245', '10128.4',\n",
       "       '10417.15', '10458.65', '10480.6', '10528.35', '10548.7',\n",
       "       '10526.2', '10565.3', '10564.05', '10584.7', '10614.35',\n",
       "       '10570.55', '10718.05', '10679.65', '10618.25', '10715.5',\n",
       "       '10717.8', '10741.7', '10806.5', '10806.6', '10801.85', '10741.1',\n",
       "       '10682.7', '10596.4', '10516.7', '10536.7', '10430.35', '10513.85',\n",
       "       '10605.15', '10688.65', '10633.3', '10696.2', '10684.65',\n",
       "       '10767.65', '10842.85', '10856.7', '10710.45', '10772.05',\n",
       "       '10821.85', '10769.15', '10671.4', '10657.3', '10699.9', '10769.9',\n",
       "       '10772.65', '10852.9', '10948.3', '10936.85', '10980.45',\n",
       "       '10957.1', '11132', '11346.2', '11450', '11429.5', '11435.1',\n",
       "       '11385.05', '11470.75', '11570.9', '11738.5', '11691.9', '11520.3',\n",
       "       '11476.95', '11536.9', '11438.1', '11287.5', '11369.9', '11377.75',\n",
       "       '11278.9', '11053.8', '10858.25', '10460.1', '10472.5', '10584.75',\n",
       "       '10146.8', '10224.75', '10553', '10524', '10530', '10582.5',\n",
       "       '10576.3', '10616.7', '10682.2', '10656.2', '10600.05', '10526.75',\n",
       "       '10628.6', '10685.6', '10728.85', '10782.9', '10693.7', '10549.15',\n",
       "       '10737.6', '10791.55', '10888.35', '10967.3', '10729.85',\n",
       "       '10910.1', '10792.5', '10672.25', '10727.35', '10855.15',\n",
       "       '10821.6', '10794.95', '10890.3', '10905.2', '10922.75', '10831.5',\n",
       "       '10849.8', '10780.55', '10652.2', '10651.8', '11062.45', '11069.4',\n",
       "       '10793.65', '10640.95', '10604.35', '10735.45', '10789.85',\n",
       "       '10791.65', '10880.1', '10806.65', '10987.45', '11053', '11058.2',\n",
       "       '11168.05', '11341.7', '11343.25', '11426.85', '11462.2',\n",
       "       '11532.4', '11521.05', '11456.9', '11354.25', '11445.05',\n",
       "       '11713.2', '11643.95', '11598', '11671.95', '11584.3', '11596.7',\n",
       "       '11787.15', '11752.8', '11726.15', '11497.9', '11359.45',\n",
       "       '11148.2', '11157', '11737.9', '11657.05', '11861.1', '12021.65',\n",
       "       '11922.7', '11965.6', '11906.2', '11823.3', '11672.15', '11691.45',\n",
       "       '11796.45', '11847.55', '11865.6', '11916.75', '11811.15',\n",
       "       '11498.9', '11687.5', '11271.3', '10980', '10997.35', '10862.6',\n",
       "       '10948.25', '10855.5', '11032.45', '11109.65', '10925.85',\n",
       "       '11029.4', '11047.8', '11053.9', '11017', '10918.7', '10741.35',\n",
       "       '10829.35', '11057.85', '11046.1', '10797.9', '10844.65',\n",
       "       '10847.9', '10946.2', '11003.05', '11035.7', '10982.8', '11075.9',\n",
       "       '11003.5', '10817.6', '10840.65', '10704.8', '11274.2', '11600.2',\n",
       "       '11588.2', '11440.2', '11359.9', '11314', '11174.75', '11126.4',\n",
       "       '11313.3', '11234.55', '11305.05', '11341.15', '11428.3', '11464',\n",
       "       '11586.35', '11661.85', '11588.35', '11604.1', '11582.6',\n",
       "       '11583.9', '11627.15', '11786.85', '11844.1', '11890.6', '11941.3',\n",
       "       '11917.2', '11966.05', '12012.05', '11908.15', '11913.45',\n",
       "       '11840.45', '11872.1', '11895.45', '11884.5', '11940.1', '11999.1',\n",
       "       '11968.4', '11914.4', '12073.75', '12037.7', '12100.7', '12048.2',\n",
       "       '11994.2', '12043.2', '12018.4', '11921.5', '11937.5', '11856.8',\n",
       "       '11910.15', '11971.8', '12086.7', '12053.95', '12165', '12221.65',\n",
       "       '12259.7', '12271.8', '12262.75', '12214.55', '12182.5', '12282.2',\n",
       "       '12226.65', '11993.05', '12052.95', '12025.35', '12215.9',\n",
       "       '12256.8', '12329.55', '12362.3', '12343.3', '12355.5', '12352.35',\n",
       "       '12224.55', '12169.85', '12106.9', '12180.35', '12248.25', '12119',\n",
       "       '12055.8', '12129.5'], dtype=object)"
      ]
     },
     "execution_count": 138,
     "metadata": {},
     "output_type": "execute_result"
    }
   ],
   "source": [
    "#Check unique values\n",
    "data['Underlying Price'].unique()"
   ]
  },
  {
   "cell_type": "code",
   "execution_count": 139,
   "metadata": {},
   "outputs": [
    {
     "data": {
      "text/plain": [
       "array(['8179.5', '8192.25', '8190.5', '8273.8', '8243.8', '8236.05',\n",
       "       '8288.6', '8380.65', '8407.2', '8400.35', '8412.8', '8398', '8417',\n",
       "       '8435.1', '8349.35', '8391.5', '8475.8', '8716.4', '8734.25',\n",
       "       '8740.95', '8801.05', '8768.3', '8769.05', '8778.4', '8793.55',\n",
       "       '8805.05', '8792.3', '8724.7', '8778', '8821.7', '8879.2',\n",
       "       '8907.85', '8926.9', '8945.8', '8899.75', '8897.55', '8963.45',\n",
       "       '8946.9', '8924.3', '8927', '8934.55', '9087', '9084.8', '9153.7',\n",
       "       '9160.05', '9126.85', '9121.5', '9030.45', '9086.3', '9108',\n",
       "       '9045.2', '9100.8', '9143.8', '9237.85', '9265.15', '9261.95',\n",
       "       '9198.3', '9181.45', '9237', '9203.45', '9150.8', '9139.3',\n",
       "       '9105.15', '9103.5', '9136.4', '9119.4', '9217.95', '9306.6',\n",
       "       '9351.85', '9313.8', '9311.95', '9359.9', '9285.3', '9314.05',\n",
       "       '9316.85', '9407.3', '9422.4', '9400.9', '9445.4', '9512.25',\n",
       "       '9525.75', '9429.45', '9427.9', '9438.25', '9386.15', '9360.55',\n",
       "       '9616.1', '9653.5', '9675.1', '9637.15', '9663.9', '9647.25',\n",
       "       '9668.25', '9616.4', '9606.9', '9618.15', '9578.05', 0, '9657.55',\n",
       "       '9633.6', '9630', '9574.95', '9511.4', '9491.25', '9615', '9613.3',\n",
       "       '9637.6', '9674.55', '9665.8', '9771.05', '9786.05', '9816.1',\n",
       "       '9891.7', '9886.35', '9915.95', '9827.15', '9899.6', '9873.3',\n",
       "       '9915.25', '9966.4', '9964.55', '10020.65', '10114.65', '10081.5',\n",
       "       '10013.65', '10066.4', '10057.4', '9978.55', '9908.05', '9820.25',\n",
       "       '9710.8', '9794.15', '9897.3', '9904.15', '9837.4', '9754.35',\n",
       "       '9765.55', '9852.5', '9857.05', '9912.8', '9796.05', '9884.4',\n",
       "       '9974.4', '9912.85', '9952.2', '9916.2', '9929.9', '9934.8',\n",
       "       '10006.05', '10093.05', '10079.3', '10086.6', '10085.4', '10153.1',\n",
       "       '10147.55', '10141.15', '10121.9', '9964.4', '9872.6', '9871.5',\n",
       "       '9735.75', '9859.5', '9914.9', '9888.7', '9979.7', '9988.75',\n",
       "       '10016.95', '9984.8', '10096.4', '10167.45', '10230.85',\n",
       "       '10234.45', '10210.85', '10146.55', '10184.85', '10207.7',\n",
       "       '10295.35', '10343.8', '10440.5', '10423.8', '10452.5', '10451.8',\n",
       "       '10350.15', '10303.15', '10308.95', '10321.75', '10224.95',\n",
       "       '10186.6', '10118.05', '10214.75', '10283.6', '10298.75',\n",
       "       '10326.9', '10342.3', '10348.75', '10389.7', '10399.55',\n",
       "       '10370.25', '10361.3', '10121.8', '10127.75', '10118.25',\n",
       "       '10044.1', '10166.7', '10265.65', '10322.25', '10240.15',\n",
       "       '10192.95', '10252.1', '10333.25', '10388.75', '10463.2',\n",
       "       '10444.2', '10440.3', '10493', '10531.5', '10490.75', '10435.55',\n",
       "       '10442.2', '10443.2', '10504.8', '10558.85', '10623.6', '10637',\n",
       "       '10632.2', '10651.2', '10681.25', '10741.55', '10700.45',\n",
       "       '10788.55', '10817', '10894.7', '10966.2', '11083.7', '11086',\n",
       "       '11016.9', '10760.6', '10666.55', '10498.25', '10476.7',\n",
       "       '10576.85', '10454.95', '10500.9', '10397.45', '10245', '10128.4',\n",
       "       '10417.15', '10458.65', '10480.6', '10528.35', '10548.7',\n",
       "       '10526.2', '10565.3', '10564.05', '10584.7', '10614.35',\n",
       "       '10570.55', '10718.05', '10679.65', '10618.25', '10715.5',\n",
       "       '10717.8', '10741.7', '10806.5', '10806.6', '10801.85', '10741.1',\n",
       "       '10682.7', '10596.4', '10516.7', '10536.7', '10430.35', '10513.85',\n",
       "       '10605.15', '10688.65', '10633.3', '10696.2', '10684.65',\n",
       "       '10767.65', '10842.85', '10856.7', '10710.45', '10772.05',\n",
       "       '10821.85', '10769.15', '10671.4', '10657.3', '10699.9', '10769.9',\n",
       "       '10772.65', '10852.9', '10948.3', '10936.85', '10980.45',\n",
       "       '10957.1', '11132', '11346.2', '11450', '11429.5', '11435.1',\n",
       "       '11385.05', '11470.75', '11570.9', '11738.5', '11691.9', '11520.3',\n",
       "       '11476.95', '11536.9', '11438.1', '11287.5', '11369.9', '11377.75',\n",
       "       '11278.9', '11053.8', '10858.25', '10460.1', '10472.5', '10584.75',\n",
       "       '10146.8', '10224.75', '10553', '10524', '10530', '10582.5',\n",
       "       '10576.3', '10616.7', '10682.2', '10656.2', '10600.05', '10526.75',\n",
       "       '10628.6', '10685.6', '10728.85', '10782.9', '10693.7', '10549.15',\n",
       "       '10737.6', '10791.55', '10888.35', '10967.3', '10729.85',\n",
       "       '10910.1', '10792.5', '10672.25', '10727.35', '10855.15',\n",
       "       '10821.6', '10794.95', '10890.3', '10905.2', '10922.75', '10831.5',\n",
       "       '10849.8', '10780.55', '10652.2', '10651.8', '11062.45', '11069.4',\n",
       "       '10793.65', '10640.95', '10604.35', '10735.45', '10789.85',\n",
       "       '10791.65', '10880.1', '10806.65', '10987.45', '11053', '11058.2',\n",
       "       '11168.05', '11341.7', '11343.25', '11426.85', '11462.2',\n",
       "       '11532.4', '11521.05', '11456.9', '11354.25', '11445.05',\n",
       "       '11713.2', '11643.95', '11598', '11671.95', '11584.3', '11596.7',\n",
       "       '11787.15', '11752.8', '11726.15', '11497.9', '11359.45',\n",
       "       '11148.2', '11157', '11737.9', '11657.05', '11861.1', '12021.65',\n",
       "       '11922.7', '11965.6', '11906.2', '11823.3', '11672.15', '11691.45',\n",
       "       '11796.45', '11847.55', '11865.6', '11916.75', '11811.15',\n",
       "       '11498.9', '11687.5', '11271.3', '10980', '10997.35', '10862.6',\n",
       "       '10948.25', '10855.5', '11032.45', '11109.65', '10925.85',\n",
       "       '11029.4', '11047.8', '11053.9', '11017', '10918.7', '10741.35',\n",
       "       '10829.35', '11057.85', '11046.1', '10797.9', '10844.65',\n",
       "       '10847.9', '10946.2', '11003.05', '11035.7', '10982.8', '11075.9',\n",
       "       '11003.5', '10817.6', '10840.65', '10704.8', '11274.2', '11600.2',\n",
       "       '11588.2', '11440.2', '11359.9', '11314', '11174.75', '11126.4',\n",
       "       '11313.3', '11234.55', '11305.05', '11341.15', '11428.3', '11464',\n",
       "       '11586.35', '11661.85', '11588.35', '11604.1', '11582.6',\n",
       "       '11583.9', '11627.15', '11786.85', '11844.1', '11890.6', '11941.3',\n",
       "       '11917.2', '11966.05', '12012.05', '11908.15', '11913.45',\n",
       "       '11840.45', '11872.1', '11895.45', '11884.5', '11940.1', '11999.1',\n",
       "       '11968.4', '11914.4', '12073.75', '12037.7', '12100.7', '12048.2',\n",
       "       '11994.2', '12043.2', '12018.4', '11921.5', '11937.5', '11856.8',\n",
       "       '11910.15', '11971.8', '12086.7', '12053.95', '12165', '12221.65',\n",
       "       '12259.7', '12271.8', '12262.75', '12214.55', '12182.5', '12282.2',\n",
       "       '12226.65', '11993.05', '12052.95', '12025.35', '12215.9',\n",
       "       '12256.8', '12329.55', '12362.3', '12343.3', '12355.5', '12352.35',\n",
       "       '12224.55', '12169.85', '12106.9', '12180.35', '12248.25', '12119',\n",
       "       '12055.8', '12129.5'], dtype=object)"
      ]
     },
     "execution_count": 139,
     "metadata": {},
     "output_type": "execute_result"
    }
   ],
   "source": [
    "#replace - with 0\n",
    "post_data=data.replace('-',0)\n",
    "post_data['Underlying Price'].unique()"
   ]
  },
  {
   "cell_type": "code",
   "execution_count": 140,
   "metadata": {},
   "outputs": [],
   "source": [
    "#Since no unique values, it is a useless feature. Hence, we drop it\n",
    "#We have time left to show the use of date and expiry columns\n",
    "post_data_1=post_data.drop(['Option Type','Date', 'Expiry'], axis=1)"
   ]
  },
  {
   "cell_type": "code",
   "execution_count": 141,
   "metadata": {},
   "outputs": [
    {
     "data": {
      "text/plain": [
       "651"
      ]
     },
     "execution_count": 141,
     "metadata": {},
     "output_type": "execute_result"
    }
   ],
   "source": [
    "#Check count of values\n",
    "post_data_1.value_counts().sum()"
   ]
  },
  {
   "cell_type": "code",
   "execution_count": 142,
   "metadata": {},
   "outputs": [
    {
     "data": {
      "text/plain": [
       "Time left             int64\n",
       "Strike Price          int64\n",
       "Settle Price        float64\n",
       "Underlying Price     object\n",
       "dtype: object"
      ]
     },
     "execution_count": 142,
     "metadata": {},
     "output_type": "execute_result"
    }
   ],
   "source": [
    "post_data_1.dtypes"
   ]
  },
  {
   "cell_type": "code",
   "execution_count": 143,
   "metadata": {},
   "outputs": [],
   "source": [
    "#separate the data into features and labels\n",
    "X=post_data_1.drop('Underlying Price', axis=1)\n",
    "y=post_data_1['Underlying Price']"
   ]
  },
  {
   "cell_type": "code",
   "execution_count": 144,
   "metadata": {},
   "outputs": [],
   "source": [
    "#Split data into train and test sets\n",
    "X_train, X_test, y_train, y_test=train_test_split(X,y,test_size=0.2,random_state=42)"
   ]
  },
  {
   "cell_type": "code",
   "execution_count": 153,
   "metadata": {},
   "outputs": [
    {
     "data": {
      "text/plain": [
       "16704844.490927685"
      ]
     },
     "execution_count": 153,
     "metadata": {},
     "output_type": "execute_result"
    }
   ],
   "source": [
    "#Using Random Forest Regressor\n",
    "regr=RandomForestRegressor(max_depth=3, random_state=42)\n",
    "regr.fit(X_train, y_train)\n",
    "y_predict=regr.predict(X_test)\n",
    "MSE_error=MSE(y_predict, y_test)\n",
    "MSE_error"
   ]
  },
  {
   "cell_type": "code",
   "execution_count": 146,
   "metadata": {},
   "outputs": [
    {
     "data": {
      "text/plain": [
       "array([-2.35669827, -0.14706471, -0.42885202, -0.47286787, -0.01343903])"
      ]
     },
     "execution_count": 146,
     "metadata": {},
     "output_type": "execute_result"
    }
   ],
   "source": [
    "#Using Support Vector Regressor\n",
    "SVR=svm.SVR()\n",
    "\n",
    "score=cross_val_score(SVR, X, y, cv=5)\n",
    "score"
   ]
  },
  {
   "cell_type": "code",
   "execution_count": null,
   "metadata": {},
   "outputs": [],
   "source": []
  },
  {
   "cell_type": "code",
   "execution_count": null,
   "metadata": {},
   "outputs": [],
   "source": []
  },
  {
   "cell_type": "code",
   "execution_count": null,
   "metadata": {},
   "outputs": [],
   "source": []
  },
  {
   "cell_type": "code",
   "execution_count": null,
   "metadata": {},
   "outputs": [],
   "source": []
  },
  {
   "cell_type": "code",
   "execution_count": null,
   "metadata": {},
   "outputs": [],
   "source": []
  },
  {
   "cell_type": "code",
   "execution_count": null,
   "metadata": {},
   "outputs": [],
   "source": []
  },
  {
   "cell_type": "code",
   "execution_count": null,
   "metadata": {},
   "outputs": [],
   "source": []
  },
  {
   "cell_type": "code",
   "execution_count": null,
   "metadata": {},
   "outputs": [],
   "source": []
  },
  {
   "cell_type": "code",
   "execution_count": null,
   "metadata": {},
   "outputs": [],
   "source": []
  },
  {
   "cell_type": "code",
   "execution_count": null,
   "metadata": {},
   "outputs": [],
   "source": []
  },
  {
   "cell_type": "code",
   "execution_count": null,
   "metadata": {},
   "outputs": [],
   "source": []
  }
 ],
 "metadata": {
  "kernelspec": {
   "display_name": "Python 3",
   "language": "python",
   "name": "python3"
  },
  "language_info": {
   "codemirror_mode": {
    "name": "ipython",
    "version": 3
   },
   "file_extension": ".py",
   "mimetype": "text/x-python",
   "name": "python",
   "nbconvert_exporter": "python",
   "pygments_lexer": "ipython3",
   "version": "3.7.9"
  }
 },
 "nbformat": 4,
 "nbformat_minor": 4
}
